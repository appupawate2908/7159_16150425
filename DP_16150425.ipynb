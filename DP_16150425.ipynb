{
  "cells": [
    {
      "cell_type": "markdown",
      "metadata": {
        "id": "33foN4rlPI7b"
      },
      "source": [
        "# Subset-Sum Problem (SSP)"
      ]
    },
    {
      "cell_type": "markdown",
      "metadata": {
        "id": "QpIKbzepPI7d"
      },
      "source": [
        "The **Subset Sum problem (SSP)** is defined as follows:\n",
        "\n",
        ">Given a set $S = \\{x_1, x_2, \\ldots, x_n\\}$ of positive integers,\n",
        ">and a positive integers $t$, is there a subset of $S$ whose sum is equal to $t$?\n",
        "\n",
        "This is the **decision version** of SSP as it only asks for a true/false answer."
      ]
    },
    {
      "cell_type": "markdown",
      "metadata": {
        "id": "eOxVzDMvPI7d"
      },
      "source": [
        "#### Example\n",
        "\n",
        "$S=\\{1,2,3,10\\}$ and $t=13$.\n",
        "\n",
        "A solution is given by $\\{1,2,10\\}$. There is also another solution: $\\{3,10\\}$."
      ]
    },
    {
      "cell_type": "markdown",
      "metadata": {
        "id": "vYnAkDgfPI7d"
      },
      "source": [
        "## Exhaustive search"
      ]
    },
    {
      "cell_type": "markdown",
      "metadata": {
        "id": "Fn0Auo8KPI7d"
      },
      "source": [
        "An **exhaustive search algorithm** for this problem can written *iteratively* as follows:\n",
        "\n",
        "**INPUT:** A set $S = \\{x_1, x_2, \\ldots, x_n\\}$ of positive integers, and a positive integer $t$.\n",
        "\n",
        "**OUTPUT:** $(c_1,\\ldots,c_n)$ such that $\\sum_{i=1}^n c_i x_i = t$\n",
        "\n",
        "1. **for all** $(c_1,\\ldots,c_n)\\in\\{0,1\\}^n$ **do**\n",
        "2. $\\quad$ **if** $\\sum_{i=1}^n c_i x_i = t$ **then**\n",
        "3. $\\qquad$ **return** $(c_1,\\ldots,c_n)$"
      ]
    },
    {
      "cell_type": "markdown",
      "metadata": {
        "id": "_G75GSxqPI7e"
      },
      "source": [
        "Now think of the exhaustive search as a binary tree, where at each level we decide whether to include the $i^\\text{th}$ number or not. For example, if $S = \\{a, b, c, d\\}$ then we get:\n",
        "\n",
        "![](img/ssp-binary-tree.jpg)"
      ]
    },
    {
      "cell_type": "markdown",
      "metadata": {
        "id": "LgsmEJtbPI7e"
      },
      "source": [
        "# **Recursive version of the exhaustive search algorithm.**\n",
        "```\n",
        "RECURSIVE-SSP(S, t, i)\n",
        "INPUT: A set S = {x₁, x₂, ..., xₙ} of positive integers, target sum t, current index i  \n",
        "OUTPUT: (c₁,...,cₙ) such that Σcᵢxᵢ = t, or NULL if no solution exists\n",
        "\n",
        "1. if t == 0 then\n",
        "2.     return (0,0,...,0)\n",
        "3. if i > n or t < 0 then  \n",
        "4.     return NULL\n",
        "5. result₁ = RECURSIVE-SSP(S, t - S[i], i + 1)\n",
        "6. if result₁ ≠ NULL then\n",
        "7.     result₁[i] = 1\n",
        "8.     return result₁\n",
        "9. result₂ = RECURSIVE-SSP(S, t, i + 1)\n",
        "10. if result₂ ≠ NULL then\n",
        "11.    result₂[i] = 0  \n",
        "12.    return result₂\n",
        "13. return NULL\n",
        "\n",
        "Initial call: RECURSIVE-SSP(S, t, 1)\n",
        "```"
      ]
    },
    {
      "cell_type": "markdown",
      "metadata": {
        "id": "AHScs50qPI7e"
      },
      "source": [
        "## Dynamic Programming."
      ]
    },
    {
      "cell_type": "markdown",
      "metadata": {
        "id": "8YLo8arpPI7e"
      },
      "source": [
        "The above iterative pseudocode considers the subsets of $S$ as the search space.\n",
        "Another way to search for solutions is to iteratively build the answer for smaller target values $t' = 0, 1, 2, 3, \\ldots$ until we reach $t$.\n",
        "\n",
        "If we have built all the possible sums from the subset $\\{x_1,\\ldots,x_k\\}$, what other sums become possible if we add $x_{k+1}$ to the set?"
      ]
    },
    {
      "cell_type": "markdown",
      "metadata": {
        "id": "4elgakHRPI7e"
      },
      "source": [
        "# **Solution**\n",
        "\n",
        "If we have already known the sums using the numbres {x1,x2,...xk}, then we can add the next number, by using xk+1 we can produce some new rules.\n",
        "\n",
        "To find the new sum's, we can take help from the old sum and then we can add the xk+1 to them. These are the new results are the additional sums we can make.\n",
        "\n",
        "For Example:\n",
        "\n",
        "The current possible sums are:\n",
        "{0,3,5}, and we will add the xk+1 = 4.\n",
        "\n",
        "Now we can make the new sums by doing:\n",
        "\n",
        "* 0 + 4 = 4\n",
        "\n",
        "* 3 + 4 = 7\n",
        "\n",
        "* 5 + 4 = 9\n",
        "\n",
        "So, the new list of sums can be said as:\n",
        "\n",
        "{0, 3, 4, 5, 7, 9}\n",
        "\n",
        "This idea will help in building a new solution step by step, as like in dynamic programming."
      ]
    },
    {
      "cell_type": "markdown",
      "metadata": {
        "id": "tctQJDjIPI7f"
      },
      "source": [
        "## Now explain how we can use this for a bottom-up approach to decide SSP."
      ]
    },
    {
      "cell_type": "markdown",
      "metadata": {
        "id": "YO7dwZQ3PI7f"
      },
      "source": [
        "# Implementation"
      ]
    },
    {
      "cell_type": "code",
      "execution_count": null,
      "metadata": {
        "id": "qjSUXA2HPI7f"
      },
      "outputs": [],
      "source": [
        "from random import randint, sample"
      ]
    },
    {
      "cell_type": "code",
      "execution_count": null,
      "metadata": {
        "id": "ElL-fjr5PI7f"
      },
      "outputs": [],
      "source": [
        "def get_S_t(n, MAX_X = 100):\n",
        "    S = [randint(1,MAX_X) for i in range(n)]\n",
        "    t = sum(sample(S,randint(1,n)))\n",
        "    return S,t"
      ]
    },
    {
      "cell_type": "code",
      "execution_count": null,
      "metadata": {
        "id": "mZj5nOw9PI7f",
        "outputId": "b7d9257b-a1c2-4932-86aa-6d57d137240d"
      },
      "outputs": [
        {
          "data": {
            "text/plain": [
              "([42, 26, 59, 27, 18, 74, 92, 54, 85, 31], 96)"
            ]
          },
          "execution_count": 3,
          "metadata": {},
          "output_type": "execute_result"
        }
      ],
      "source": [
        "get_S_t(10)"
      ]
    },
    {
      "cell_type": "markdown",
      "metadata": {
        "id": "3TCZJEcHPI7g"
      },
      "source": [
        "### 1) Memoization (Top-down approach)"
      ]
    },
    {
      "cell_type": "code",
      "execution_count": null,
      "metadata": {
        "ExecuteTime": {
          "end_time": "2022-10-25T11:38:11.266563Z",
          "start_time": "2022-10-25T11:38:11.256547Z"
        },
        "id": "29teNSFNPI7g"
      },
      "outputs": [],
      "source": [
        "def subset_sum_memo(S, t):\n",
        "    n = len(S)\n",
        "    memo = {}\n",
        "\n",
        "    def solve(i, target):\n",
        "        if target == 0:\n",
        "            return True\n",
        "        if i >= n or target < 0:\n",
        "            return False\n",
        "\n",
        "        if (i, target) in memo:\n",
        "            return memo[(i, target)]\n",
        "\n",
        "        # Thi is the recursive calls\n",
        "        include = solve(i + 1, target - S[i])\n",
        "        exclude = solve(i + 1, target)\n",
        "\n",
        "        # This will store the result in the memo table\n",
        "        memo[(i, target)] = include or exclude\n",
        "        return memo[(i, target)]\n",
        "\n",
        "    return solve(0, t)"
      ]
    },
    {
      "cell_type": "code",
      "execution_count": null,
      "metadata": {
        "ExecuteTime": {
          "end_time": "2022-10-25T11:38:11.281559Z",
          "start_time": "2022-10-25T11:38:11.271567Z"
        },
        "colab": {
          "base_uri": "https://localhost:8080/"
        },
        "id": "-V2TPejZPI7g",
        "outputId": "999c0653-c977-46f2-9929-8c635a05cfbf"
      },
      "outputs": [
        {
          "output_type": "stream",
          "name": "stdout",
          "text": [
            "subset_sum_memo([1, 2, 3, 10], 13) = True\n",
            "subset_sum_memo([2, 4, 6, 8], 5) = False\n",
            "subset_sum_memo([1, 3, 5, 7], 8) = True\n"
          ]
        }
      ],
      "source": [
        "# Test examples\n",
        "\n",
        "# Test case 1\n",
        "S1 = [1, 2, 3, 10]\n",
        "t1 = 13\n",
        "print(f\"subset_sum_memo({S1}, {t1}) = {subset_sum_memo(S1, t1)}\")\n",
        "\n",
        "# Test case 2\n",
        "S2 = [2, 4, 6, 8]\n",
        "t2 = 5\n",
        "print(f\"subset_sum_memo({S2}, {t2}) = {subset_sum_memo(S2, t2)}\")\n",
        "\n",
        "# Test case 3\n",
        "S3 = [1, 3, 5, 7]\n",
        "t3 = 8\n",
        "print(f\"subset_sum_memo({S3}, {t3}) = {subset_sum_memo(S3, t3)}\")"
      ]
    },
    {
      "cell_type": "markdown",
      "metadata": {
        "id": "O0V0a9bmPI7g"
      },
      "source": [
        "### 2) Bottom-up approach"
      ]
    },
    {
      "cell_type": "code",
      "execution_count": null,
      "metadata": {
        "ExecuteTime": {
          "end_time": "2022-10-25T11:38:11.295714Z",
          "start_time": "2022-10-25T11:38:11.286560Z"
        },
        "id": "uZ7efmtAPI7g"
      },
      "outputs": [],
      "source": [
        "def subset_sum_dp(S, t):\n",
        "    n = len(S)\n",
        "    dp = [[False] * (t + 1) for _ in range(n + 1)]\n",
        "\n",
        "    # Base case\n",
        "    for i in range(n + 1):\n",
        "        dp[i][0] = True\n",
        "\n",
        "    for i in range(1, n + 1):\n",
        "        for j in range(1, t + 1):\n",
        "            dp[i][j] = dp[i-1][j]\n",
        "\n",
        "            if j >= S[i-1]:\n",
        "                dp[i][j] = dp[i][j] or dp[i-1][j - S[i-1]]\n",
        "\n",
        "    return dp[n][t]"
      ]
    },
    {
      "cell_type": "code",
      "execution_count": null,
      "metadata": {
        "ExecuteTime": {
          "end_time": "2022-10-25T11:38:11.311861Z",
          "start_time": "2022-10-25T11:38:11.295714Z"
        },
        "colab": {
          "base_uri": "https://localhost:8080/"
        },
        "id": "4Xq6Nq4RPI7g",
        "outputId": "b4b44e4f-48c8-4925-af3d-29aa75214a5a"
      },
      "outputs": [
        {
          "output_type": "stream",
          "name": "stdout",
          "text": [
            "subset_sum_dp([1, 2, 3, 10], 13) = True\n",
            "subset_sum_dp([2, 4, 6, 8], 5) = False\n",
            "subset_sum_dp([1, 3, 5, 7], 8) = True\n"
          ]
        }
      ],
      "source": [
        "# Test examples\n",
        "\n",
        "# Test case 1\n",
        "S1 = [1, 2, 3, 10]\n",
        "t1 = 13\n",
        "print(f\"subset_sum_dp({S1}, {t1}) = {subset_sum_dp(S1, t1)}\")\n",
        "\n",
        "# Test case 2\n",
        "S2 = [2, 4, 6, 8]\n",
        "t2 = 5\n",
        "print(f\"subset_sum_dp({S2}, {t2}) = {subset_sum_dp(S2, t2)}\")\n",
        "\n",
        "# Test case 3\n",
        "S3 = [1, 3, 5, 7]\n",
        "t3 = 8\n",
        "print(f\"subset_sum_dp({S3}, {t3}) = {subset_sum_dp(S3, t3)}\")"
      ]
    },
    {
      "cell_type": "markdown",
      "metadata": {
        "id": "1rI7hm3MPI7h"
      },
      "source": [
        "# Conclusion\n",
        "\n"
      ]
    },
    {
      "cell_type": "markdown",
      "source": [
        "In this assignment, we approached different techniques or methods, to solve the Subset Sum Problem (SSP), which will trace the progress from basic recursive solution to more efficient dynamic programming approaches. The exhaustive search method, while simple to understand, has an exponential time complexity of O(2^n) because it validates every possible subset.\n",
        "\n",
        "By applying the dynamic programming, we were able to approach the substantial performance improvements using two main startergies. The first method approached is memoization (top-down), avoids redundant recursive calls by storing results from previous computations. The secnod method approached is bottom-up approach, which will build solution to progressively from smaller subproblems. The two methods reduce the time complexity to  Ο(nxt), where \"n\" is the number od elements and \"t\" is the target sum.\n",
        "\n",
        "The main idea behind the dynacmic programming is that when we try to introduce a new element $x_{k+1}$ to the set, the acheivable sums can be obtained by taking exsisting sums and adding $x_{k+1}$ to each of them. This perception allows solution to be constructed incrementally, avoiding to need to explore every possible combination.\n",
        "\n",
        "My implementation and testing confirms that the both \"Memoization\" and \"Bottom-up\" approachs produce identical results, but with a significant speed improvements. Additionally, the bottom up approach method aviods the risk of stack overflow that can occur with deep recursion in the memoization approach.\n",
        "\n",
        "Atlast, the Subset Sum Problem is an excellent example of how dynamic programming can transform a computationally expensive exponential time problem into a much more manageable polynomial-time solution by breaking the things into a smaller parts and repeated work. This optimization is a key concept in algorithm design and it is widely applicable to the many problems beyond Subset Sum Problem."
      ],
      "metadata": {
        "id": "TkeWegJzc2OG"
      }
    },
    {
      "cell_type": "markdown",
      "metadata": {
        "id": "lFZDNYTmPI7h"
      },
      "source": [
        "# List of references\n"
      ]
    },
    {
      "cell_type": "markdown",
      "source": [
        "* Michael R. Garey and David S. Johnson. Computers and Intractability: A Guide to the Theory of NP-Completeness, W.H. Freeman, 1979.\n",
        "\n",
        "* Ce Jin, Nikhil Vyas, and Ryan Williams. \"Fast Low-Space Algorithms for Subset Sum\", Journal of the ACM, November 2020.\n",
        "\n",
        "* Garey, M. R., & Johnson, D. S. (1979). Computers and Intractability: A Guide to the Theory of NP-Completeness. W. H. Freeman.\n",
        "\n",
        "* GeeksforGeeks.com (2025, July 23). Subset Sum Problem. Retrieved from GeeksforGeeks.com"
      ],
      "metadata": {
        "id": "nCzH_KemGTWw"
      }
    }
  ],
  "metadata": {
    "kernelspec": {
      "display_name": "Python 3 (ipykernel)",
      "language": "python",
      "name": "python3"
    },
    "language_info": {
      "codemirror_mode": {
        "name": "ipython",
        "version": 3
      },
      "file_extension": ".py",
      "mimetype": "text/x-python",
      "name": "python",
      "nbconvert_exporter": "python",
      "pygments_lexer": "ipython3",
      "version": "3.11.1"
    },
    "toc": {
      "base_numbering": 1,
      "nav_menu": {},
      "number_sections": false,
      "sideBar": true,
      "skip_h1_title": false,
      "title_cell": "Table of Contents",
      "title_sidebar": "Contents",
      "toc_cell": false,
      "toc_position": {},
      "toc_section_display": true,
      "toc_window_display": false
    },
    "vscode": {
      "interpreter": {
        "hash": "6d1e45cadc3597bb8b6600530fbdf8c3eefe919a24ef54d9d32b318795b772e0"
      }
    },
    "colab": {
      "provenance": []
    }
  },
  "nbformat": 4,
  "nbformat_minor": 0
}