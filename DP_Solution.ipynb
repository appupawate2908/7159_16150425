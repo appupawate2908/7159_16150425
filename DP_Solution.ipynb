{
  "nbformat": 4,
  "nbformat_minor": 0,
  "metadata": {
    "colab": {
      "provenance": [],
      "authorship_tag": "ABX9TyMe0Cot37pIZcHaOC4Io1c9"
    },
    "kernelspec": {
      "name": "python3",
      "display_name": "Python 3"
    },
    "language_info": {
      "name": "python"
    }
  },
  "cells": [
    {
      "cell_type": "markdown",
      "source": [
        "**Recursive version of the exhaustive search algorithm.**"
      ],
      "metadata": {
        "id": "zHV3i4ZS3sCQ"
      }
    },
    {
      "cell_type": "markdown",
      "source": [
        "\n",
        "#Dynamic Programming - Subset Solution Problem"
      ],
      "metadata": {
        "id": "eXmhxxcl80os"
      }
    },
    {
      "cell_type": "markdown",
      "source": [
        "**Problem Statement:**\n",
        "\n",
        "Given a set of positive integers `S = {x₁, x₂, ..., xₙ}` and a target value `t`, determine whether there exists a subset of `S` such that the sum of its elements equals `t`."
      ],
      "metadata": {
        "id": "YhowzhXI9ovC"
      }
    },
    {
      "cell_type": "code",
      "source": [
        "def subset_sum_reccursive(s, t, i=0):\n",
        "  if t==0:\n",
        "    return True\n",
        "\n",
        "  if i==len(s) or t<0:\n",
        "    return False\n",
        "\n",
        "  return subset_sum_reccursive(s,t-s[i],i+1) or subset_sum_reccursive(s,t,i+1)\n",
        "\n",
        "\n",
        "\n",
        "#Test Case:\n",
        "s=[1,2,3,10]\n",
        "t=13\n",
        "result = subset_sum_reccursive(s,t)\n",
        "\n",
        "print(\"The subset exists for the problem is:\",result)"
      ],
      "metadata": {
        "colab": {
          "base_uri": "https://localhost:8080/"
        },
        "id": "cv2bvJX0-MmP",
        "outputId": "ad123119-00f0-447f-9318-b4596017286d"
      },
      "execution_count": null,
      "outputs": [
        {
          "output_type": "stream",
          "name": "stdout",
          "text": [
            "The subset exists for the problem is: True\n"
          ]
        }
      ]
    },
    {
      "cell_type": "markdown",
      "source": [],
      "metadata": {
        "id": "5-I9DmIhbPm-"
      }
    },
    {
      "cell_type": "markdown",
      "source": [],
      "metadata": {
        "id": "HhpmBCG3Ifzv"
      }
    }
  ]
}